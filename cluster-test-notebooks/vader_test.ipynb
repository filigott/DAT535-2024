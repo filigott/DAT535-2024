{
 "cells": [
  {
   "cell_type": "code",
   "execution_count": 1,
   "id": "1cc07a84-9bd6-4a71-b868-e1f7de5a3578",
   "metadata": {},
   "outputs": [
    {
     "name": "stderr",
     "output_type": "stream",
     "text": [
      "                                                                                \r"
     ]
    },
    {
     "name": "stdout",
     "output_type": "stream",
     "text": [
      "Executor 0: Available\n",
      "Executor 1: Available\n",
      "Executor 2: Available\n",
      "Executor 3: Available\n"
     ]
    }
   ],
   "source": [
    "from pyspark.sql import SparkSession\n",
    "import sys\n",
    "\n",
    "spark = SparkSession.builder \\\n",
    "    .appName(\"Vader Test\") \\\n",
    "    .config(\"spark.executor.memory\", \"4g\") \\\n",
    "    .config(\"spark.driver.memory\", \"4g\") \\\n",
    "    .config(\"spark.executor.cores\", \"3\") \\\n",
    "    .config(\"spark.executor.instances\", \"4\") \\\n",
    "    .config(\"spark.executor.extraPythonPackages\", \"vaderSentiment\") \\\n",
    "    .config(\"spark.driver.extraPythonPackages\", \"vaderSentiment\") \\\n",
    "    .config(\"spark.executorEnv.PYTHONPATH\", \":\".join(sys.path)) \\\n",
    "    .getOrCreate()\n",
    "\n",
    "# Check VaderSentiment availability\n",
    "def check_vader_availability(_):\n",
    "    try:\n",
    "        from vaderSentiment.vaderSentiment import SentimentIntensityAnalyzer\n",
    "        analyzer = SentimentIntensityAnalyzer()\n",
    "        return [\"Available\"]\n",
    "    except ImportError as e:\n",
    "        return [f\"Not Available: {str(e)}\"]\n",
    "\n",
    "# Create an RDD with dummy data to trigger the check on executors\n",
    "rdd = spark.sparkContext.parallelize(range(4), 4)  # Adjust number of partitions to match executors\n",
    "result = rdd.mapPartitions(check_vader_availability).collect()\n",
    "\n",
    "# Print results\n",
    "for i, res in enumerate(result):\n",
    "    print(f\"Executor {i}: {res}\")\n",
    "\n",
    "spark.stop()\n"
   ]
  },
  {
   "cell_type": "code",
   "execution_count": null,
   "id": "9b30ec4b-9e39-4f79-9398-49d9b452f5db",
   "metadata": {},
   "outputs": [],
   "source": []
  }
 ],
 "metadata": {
  "kernelspec": {
   "display_name": "Python 3 (ipykernel)",
   "language": "python",
   "name": "python3"
  },
  "language_info": {
   "codemirror_mode": {
    "name": "ipython",
    "version": 3
   },
   "file_extension": ".py",
   "mimetype": "text/x-python",
   "name": "python",
   "nbconvert_exporter": "python",
   "pygments_lexer": "ipython3",
   "version": "3.12.3"
  }
 },
 "nbformat": 4,
 "nbformat_minor": 5
}
