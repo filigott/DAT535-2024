{
 "cells": [
  {
   "cell_type": "code",
   "execution_count": 11,
   "metadata": {},
   "outputs": [],
   "source": [
    "from pyspark.sql import SparkSession\n",
    "from pyspark.sql import functions as F\n",
    "from pyspark.ml.feature import VectorAssembler\n",
    "from pyspark.ml.clustering import KMeans\n",
    "import matplotlib.pyplot as plt\n",
    "import seaborn as sns\n",
    "from vaderSentiment.vaderSentiment import SentimentIntensityAnalyzer\n",
    "import re"
   ]
  },
  {
   "cell_type": "code",
   "execution_count": 12,
   "metadata": {},
   "outputs": [],
   "source": [
    "# Create a Spark session\n",
    "spark = SparkSession.builder \\\n",
    "    .appName(\"Reddit Sentiment Analysis\") \\\n",
    "    .config(\"spark.executor.memory\", \"4g\") \\\n",
    "    .config(\"spark.driver.memory\", \"4g\") \\\n",
    "    .config(\"spark.executor.cores\", \"8\") \\\n",
    "    .getOrCreate()\n",
    "\n",
    "sc = spark.sparkContext"
   ]
  },
  {
   "cell_type": "code",
   "execution_count": 13,
   "metadata": {},
   "outputs": [],
   "source": [
    "# File path for the Parquet file\n",
    "file_path = \"data/the-reddit-covid-comments-sample.parquet\"\n",
    "\n",
    "# Read the Parquet file into a DataFrame\n",
    "df = spark.read.parquet(file_path)\n"
   ]
  },
  {
   "cell_type": "code",
   "execution_count": 14,
   "metadata": {},
   "outputs": [
    {
     "name": "stdout",
     "output_type": "stream",
     "text": [
      "root\n",
      " |-- type: string (nullable = true)\n",
      " |-- id: string (nullable = true)\n",
      " |-- subreddit_id: string (nullable = true)\n",
      " |-- subreddit_name: string (nullable = true)\n",
      " |-- subreddit_nsfw: string (nullable = true)\n",
      " |-- created_utc: integer (nullable = true)\n",
      " |-- permalink: string (nullable = true)\n",
      " |-- body: string (nullable = true)\n",
      " |-- sentiment: double (nullable = false)\n",
      " |-- score: integer (nullable = true)\n",
      "\n",
      "+-------+-------+------------+--------------+--------------+-----------+--------------------+--------------------+---------+-----+\n",
      "|   type|     id|subreddit_id|subreddit_name|subreddit_nsfw|created_utc|           permalink|                body|sentiment|score|\n",
      "+-------+-------+------------+--------------+--------------+-----------+--------------------+--------------------+---------+-----+\n",
      "|comment|hi1vsag|       2riyy|          nova|         false| 1635206399|https://old.reddi...|When you schedule...|      0.0|    2|\n",
      "|comment|hi1vs7i|       2qhov|     vancouver|         false| 1635206397|https://old.reddi...|Didn't stop price...|   0.1887|   32|\n",
      "|comment|hi1vs5n|       2qwzb|      pregnant|         false| 1635206397|https://old.reddi...|I’m just waiting ...|    0.672|    1|\n",
      "|comment|hi1vs5v|       2qixm|      startrek|         false| 1635206397|https://old.reddi...|*The first duty o...|   0.9562|    1|\n",
      "|comment|hi1vs0l|       2qsf3|       ontario|         false| 1635206395|https://old.reddi...|Compare BC to Ont...|      0.0|   -2|\n",
      "+-------+-------+------------+--------------+--------------+-----------+--------------------+--------------------+---------+-----+\n",
      "only showing top 5 rows\n",
      "\n"
     ]
    }
   ],
   "source": [
    "# Renaming columns for clarity\n",
    "df = df.withColumnRenamed(\"subreddit.id\", \"subreddit_id\")\n",
    "df = df.withColumnRenamed(\"subreddit.name\", \"subreddit_name\")\n",
    "df = df.withColumnRenamed(\"subreddit.nsfw\", \"subreddit_nsfw\")\n",
    "\n",
    "# Calculate the mean sentiment\n",
    "mean_sentiment = df.agg(F.avg(\"sentiment\")).first()[0]\n",
    "\n",
    "# Fill null values in the sentiment column with the mean\n",
    "df_filled_mean = df.fillna({'sentiment': mean_sentiment})\n",
    "\n",
    "# Show the DataFrame schema and first few rows\n",
    "df_filled_mean.printSchema()  # Print the schema of the filled DataFrame\n",
    "df_filled_mean.show(5)        # Display the first few rows of the filled DataFrame\n"
   ]
  },
  {
   "cell_type": "code",
   "execution_count": 15,
   "metadata": {},
   "outputs": [
    {
     "data": {
      "text/plain": [
       "1777747"
      ]
     },
     "execution_count": 15,
     "metadata": {},
     "output_type": "execute_result"
    }
   ],
   "source": [
    "df.count()"
   ]
  },
  {
   "cell_type": "markdown",
   "metadata": {},
   "source": [
    "### Sentiment score calculation - VADER"
   ]
  },
  {
   "cell_type": "code",
   "execution_count": 16,
   "metadata": {},
   "outputs": [],
   "source": [
    "# Initialize the VADER sentiment analyzer\n",
    "analyzer = SentimentIntensityAnalyzer()"
   ]
  },
  {
   "cell_type": "code",
   "execution_count": 17,
   "metadata": {},
   "outputs": [],
   "source": [
    "# Define a function to apply VADER sentiment analysis\n",
    "def calculate_vader_sentiment(text):\n",
    "    scores = analyzer.polarity_scores(text)\n",
    "    return float(scores['compound'])"
   ]
  },
  {
   "cell_type": "code",
   "execution_count": 18,
   "metadata": {},
   "outputs": [],
   "source": [
    "def clean_comment(text):\n",
    "    # Convert to lowercase\n",
    "    text = text.lower()\n",
    "    # Remove URLs\n",
    "    text = re.sub(r\"http\\S+|www\\S+|https\\S+\", '', text, flags=re.MULTILINE)\n",
    "    # Remove special characters, numbers, and punctuation\n",
    "    text = re.sub(r'\\@w+|\\#','', text)  # Remove @mentions and #hashtags\n",
    "    text = re.sub(r'\\s+', ' ', text)    # Remove extra whitespace\n",
    "    text = re.sub(r'[^\\w\\s]', '', text) # Remove punctuation\n",
    "    return text\n",
    "\n",
    "clean_text_udf = F.udf(clean_comment, F.StringType())"
   ]
  },
  {
   "cell_type": "code",
   "execution_count": 19,
   "metadata": {},
   "outputs": [
    {
     "name": "stdout",
     "output_type": "stream",
     "text": [
      "+---------------------------------------------------------------------------------------------------------------------------------------------------------------------------------------------------------------------------------------------------------------------------------------------------------------------------------------------------------------------------------------------------------------------------------------------------------------------------------------------------------------------------------------------------------------------------------------------------------------------------------------------------------------------------------------------------------------------------------------------------------------------------------------------------------------------------------------------------------------------------------------------------------------------------------------------------------------------------------------------------------------------------------------------------------------------------+-----------------------------------------------------------------------------------------------------------------------------------------------------------------------------------------------------------------------------------------------------------------------------------------------------------------------------------------------------------------------------------------------------------------------------------------------------------------------------------------------------------------------------------------------------------------------------------------------------------------------------------------------------------------------------------------------------------------------------------------------------------------------------------------------------------------------------------------------------------------+\n",
      "|body                                                                                                                                                                                                                                                                                                                                                                                                                                                                                                                                                                                                                                                                                                                                                                                                                                                                                                                                                                                                                                                                       |body_clean                                                                                                                                                                                                                                                                                                                                                                                                                                                                                                                                                                                                                                                                                                                                                                                                                                                       |\n",
      "+---------------------------------------------------------------------------------------------------------------------------------------------------------------------------------------------------------------------------------------------------------------------------------------------------------------------------------------------------------------------------------------------------------------------------------------------------------------------------------------------------------------------------------------------------------------------------------------------------------------------------------------------------------------------------------------------------------------------------------------------------------------------------------------------------------------------------------------------------------------------------------------------------------------------------------------------------------------------------------------------------------------------------------------------------------------------------+-----------------------------------------------------------------------------------------------------------------------------------------------------------------------------------------------------------------------------------------------------------------------------------------------------------------------------------------------------------------------------------------------------------------------------------------------------------------------------------------------------------------------------------------------------------------------------------------------------------------------------------------------------------------------------------------------------------------------------------------------------------------------------------------------------------------------------------------------------------------+\n",
      "|When you scheduled your booster with CVS does it just give you the option of Vaccines: COVID-19 (Vaccine brand) or does it specifically say booster                                                                                                                                                                                                                                                                                                                                                                                                                                                                                                                                                                                                                                                                                                                                                                                                                                                                                                                        |when you scheduled your booster with cvs does it just give you the option of vaccines covid19 vaccine brand or does it specifically say booster                                                                                                                                                                                                                                                                                                                                                                                                                                                                                                                                                                                                                                                                                                                  |\n",
      "|Didn't stop prices there though. New Zealand and Canada grew at about the same rate through COVID. \\n\\nI agree that non-resident ownership should be stopped, but it's also probably not going to change anything.                                                                                                                                                                                                                                                                                                                                                                                                                                                                                                                                                                                                                                                                                                                                                                                                                                                         |didnt stop prices there though new zealand and canada grew at about the same rate through covid i agree that nonresident ownership should be stopped but its also probably not going to change anything                                                                                                                                                                                                                                                                                                                                                                                                                                                                                                                                                                                                                                                          |\n",
      "|I’m just waiting until after pregnancy to get vaccinated. \\nI have a special needs daughter due to having fever during pregnancy and I’m not willing to risk the vaccine fever right now.\\nI have strong antibodies from Covid that I had before I got pregnant. (I keep taking blood tests to check)\\nThere’s a difference between anti vaccine and deciding to wait based on different factors                                                                                                                                                                                                                                                                                                                                                                                                                                                                                                                                                                                                                                                                           |im just waiting until after pregnancy to get vaccinated i have a special needs daughter due to having fever during pregnancy and im not willing to risk the vaccine fever right now i have strong antibodies from covid that i had before i got pregnant i keep taking blood tests to check theres a difference between anti vaccine and deciding to wait based on different factors                                                                                                                                                                                                                                                                                                                                                                                                                                                                             |\n",
      "|*The first duty of every Starfleet officer is to the truth. Whether it's scientific truth, or historical truth, or personal truth. It is the guiding principle upon which Starfleet is based. If you can't find it within yourself to stand up and tell the truth about what happened you don't deserve to wear that uniform.*\\n\\n[Captain Jean-Luc Picard, \"The First Duty\"](https://www.youtube.com/watch?v=xefh7W1nVo4)\\n\\nReddit admins have been [ineffectual in their response to COVID-19 misinformation](https://www.dailydot.com/debug/subreddits-private-protest-covid-disinformation-reddit/). In lieu of Reddit gold and awards, we ask that you donate to the [WHO COVID-19 response fund](https://www.who.int/emergencies/diseases/novel-coronavirus-2019/donate).\\n\\nPlease respect our [subreddit rules](https://www.reddit.com/r/startrek/wiki/guidelines). LLAP!\\n\\n*I am a bot, and this action was performed automatically. Please [contact the moderators of this subreddit](/message/compose/?to=/r/startrek) if you have any questions or concerns.*|the first duty of every starfleet officer is to the truth whether its scientific truth or historical truth or personal truth it is the guiding principle upon which starfleet is based if you cant find it within yourself to stand up and tell the truth about what happened you dont deserve to wear that uniform captain jeanluc picard the first duty reddit admins have been ineffectual in their response to covid19 misinformation in lieu of reddit gold and awards we ask that you donate to the who covid19 response fund please respect our subreddit rules llap i am a bot and this action was performed automatically please contact the moderators of this subredditmessagecomposetorstartrek if you have any questions or concerns                                                                                                                |\n",
      "|Compare BC to Ontario for COVID. It's even more striking how anti-mask, anti-vaccine that the NDP BC government is.                                                                                                                                                                                                                                                                                                                                                                                                                                                                                                                                                                                                                                                                                                                                                                                                                                                                                                                                                        |compare bc to ontario for covid its even more striking how antimask antivaccine that the ndp bc government is                                                                                                                                                                                                                                                                                                                                                                                                                                                                                                                                                                                                                                                                                                                                                    |\n",
      "|Sheeran didn't mention whether he was vaccinated in his post. But in July he joined James Corden for a segment on \"The Late Late Show with James Corden\" where the two changed the lyrics of Sheeran's hit song, \"Shape of You,\" with phrases about getting a Covid-19 vaccine.\\n\\n\"Modera or Pfizer will do, You'll be good after jab number two, but wait two weeks for it to take effect.\"\\n\\nhttps://www.cnn.com/2021/10/24/entertainment/ed-sheeran-covid-positive-trnd/index.html\\n\\nVery likely he is vaccinated. Not an Ed Sheeran fan btw. I think his hits are irritating.                                                                                                                                                                                                                                                                                                                                                                                                                                                                                       |sheeran didnt mention whether he was vaccinated in his post but in july he joined james corden for a segment on the late late show with james corden where the two changed the lyrics of sheerans hit song shape of you with phrases about getting a covid19 vaccine modera or pfizer will do youll be good after jab number two but wait two weeks for it to take effect very likely he is vaccinated not an ed sheeran fan btw i think his hits are irritating                                                                                                                                                                                                                                                                                                                                                                                                 |\n",
      "|I see a lot of posts like this comparing the covid outrage to other more deadly things, but the reason those stats fail to hit home with people is because all of those other things don't spread person to person. That's the huge key that allows covid restrictions to have such impact- because people fear the interpersonal spread. \\n\\nYes heart disease and hunger are also incredibly deadly, but people don't spread those to each other. That's why the government doesn't focus on them so much (at least that's what people will think, anyway). The fear of catching/spreading is what allows covid to be so powerful.                                                                                                                                                                                                                                                                                                                                                                                                                                       |i see a lot of posts like this comparing the covid outrage to other more deadly things but the reason those stats fail to hit home with people is because all of those other things dont spread person to person thats the huge key that allows covid restrictions to have such impact because people fear the interpersonal spread yes heart disease and hunger are also incredibly deadly but people dont spread those to each other thats why the government doesnt focus on them so much at least thats what people will think anyway the fear of catchingspreading is what allows covid to be so powerful                                                                                                                                                                                                                                                   |\n",
      "|And think about how many people died over the last year and a half- whether from Covid or something else- and didn't get to enjoy their last months on earth.  That would actually be one of my worst fears.  Imagine having a heart attack or freak stroke in the middle of lockdowns and your last memories on earth were being isolated from everyone and everything you love.  That is why the older people in my family insisted on getting together for Thanksgiving and Christmas last year.  I was glad they did.                                                                                                                                                                                                                                                                                                                                                                                                                                                                                                                                                  |and think about how many people died over the last year and a half whether from covid or something else and didnt get to enjoy their last months on earth that would actually be one of my worst fears imagine having a heart attack or freak stroke in the middle of lockdowns and your last memories on earth were being isolated from everyone and everything you love that is why the older people in my family insisted on getting together for thanksgiving and christmas last year i was glad they did                                                                                                                                                                                                                                                                                                                                                    |\n",
      "|Unfortunately they shut down during covid. I've been checking, but haven't seen any signs so thinking it's permanently closed.\\n\\nCheck Hill Country in DC as they sometimes do line dancing nights.                                                                                                                                                                                                                                                                                                                                                                                                                                                                                                                                                                                                                                                                                                                                                                                                                                                                       |unfortunately they shut down during covid ive been checking but havent seen any signs so thinking its permanently closed check hill country in dc as they sometimes do line dancing nights                                                                                                                                                                                                                                                                                                                                                                                                                                                                                                                                                                                                                                                                       |\n",
      "|I don’t know anyone unvaccinated that has died from covid, I do know vaxxed people who have died from covid. It’s not a true statement at all in the sense of dying from covid. Bad try.                                                                                                                                                                                                                                                                                                                                                                                                                                                                                                                                                                                                                                                                                                                                                                                                                                                                                   |i dont know anyone unvaccinated that has died from covid i do know vaxxed people who have died from covid its not a true statement at all in the sense of dying from covid bad try                                                                                                                                                                                                                                                                                                                                                                                                                                                                                                                                                                                                                                                                               |\n",
      "|BS. Not a fear campaign. Diversion campaign that uses fear. Sounds similar but there's a difference. And its coming to an end spring of 2022. Mqrk that one on your calendars folks. Also cue for another distraction using fear to distract you from the covid distraction. Don't you love how the corporate media works?                                                                                                                                                                                                                                                                                                                                                                                                                                                                                                                                                                                                                                                                                                                                                 |bs not a fear campaign diversion campaign that uses fear sounds similar but theres a difference and its coming to an end spring of 2022 mqrk that one on your calendars folks also cue for another distraction using fear to distract you from the covid distraction dont you love how the corporate media works                                                                                                                                                                                                                                                                                                                                                                                                                                                                                                                                                 |\n",
      "|Idk if they have it this season but you can go to client / guest services and ask for a certificate to commemorate the occasion. Pre COVID you can even order it through the app and it'll be delivered to your seat.                                                                                                                                                                                                                                                                                                                                                                                                                                                                                                                                                                                                                                                                                                                                                                                                                                                      |idk if they have it this season but you can go to client  guest services and ask for a certificate to commemorate the occasion pre covid you can even order it through the app and itll be delivered to your seat                                                                                                                                                                                                                                                                                                                                                                                                                                                                                                                                                                                                                                                |\n",
      "|In terms of enrollment, I think there’s a fairly good chance we have 800 patients and are waiting on them to go through the 28 day follow up appointments. I’m honestly hoping to get a little more clarity on that subject in our next press release.\\n\\nFrom a logistics perspective, there’s still COVID patients coming into these clinics and we’ve got the new dosages packaged, so further delays would likely come from physically sending binders and materials to the participating clinics (shipping is a mess right now)                                                                                                                                                                                                                                                                                                                                                                                                                                                                                                                                       |in terms of enrollment i think theres a fairly good chance we have 800 patients and are waiting on them to go through the 28 day follow up appointments im honestly hoping to get a little more clarity on that subject in our next press release from a logistics perspective theres still covid patients coming into these clinics and weve got the new dosages packaged so further delays would likely come from physically sending binders and materials to the participating clinics shipping is a mess right now                                                                                                                                                                                                                                                                                                                                           |\n",
      "|I got some crappy contract job making escape game rooms for three months just before covid started that had me sign to not join any other companies vaguely like it for 5 years. I'm happy with my current job but would have been nice to be able to use any of that experience at that time.                                                                                                                                                                                                                                                                                                                                                                                                                                                                                                                                                                                                                                                                                                                                                                             |i got some crappy contract job making escape game rooms for three months just before covid started that had me sign to not join any other companies vaguely like it for 5 years im happy with my current job but would have been nice to be able to use any of that experience at that time                                                                                                                                                                                                                                                                                                                                                                                                                                                                                                                                                                      |\n",
      "|Pretty sure the executive order was stated get vaccinated or institute a testing regimen for COVID. Companies are the ones taking the initiative to make the requirements more stringent. The EO also exempted small businesses, so not exactly dictator or Holocaust or insert hyperbolic historical reference here.                                                                                                                                                                                                                                                                                                                                                                                                                                                                                                                                                                                                                                                                                                                                                      |pretty sure the executive order was stated get vaccinated or institute a testing regimen for covid companies are the ones taking the initiative to make the requirements more stringent the eo also exempted small businesses so not exactly dictator or holocaust or insert hyperbolic historical reference here                                                                                                                                                                                                                                                                                                                                                                                                                                                                                                                                                |\n",
      "|Lol it’s kinda funny to use china as a point of comparison if you’re gonna complain about stringent and widespread anti-covid measures here in the states.                                                                                                                                                                                                                                                                                                                                                                                                                                                                                                                                                                                                                                                                                                                                                                                                                                                                                                                 |lol its kinda funny to use china as a point of comparison if youre gonna complain about stringent and widespread anticovid measures here in the states                                                                                                                                                                                                                                                                                                                                                                                                                                                                                                                                                                                                                                                                                                           |\n",
      "|It's racist in that the article states they are specifically targeting foreigners. While it does make sense, given that people that ignore covid quarantine rules for Halloween are likely to be foreign, there will still be Koreans there that can be ignoring quarantine rules. The wording of the article is also xenophobic.                                                                                                                                                                                                                                                                                                                                                                                                                                                                                                                                                                                                                                                                                                                                          |its racist in that the article states they are specifically targeting foreigners while it does make sense given that people that ignore covid quarantine rules for halloween are likely to be foreign there will still be koreans there that can be ignoring quarantine rules the wording of the article is also xenophobic                                                                                                                                                                                                                                                                                                                                                                                                                                                                                                                                      |\n",
      "|When it comes to Covid, they are living... with restrictions lol... After getting vaccinated in a bid to remove all restrictions and return to normal. How far away are those goalposts again?                                                                                                                                                                                                                                                                                                                                                                                                                                                                                                                                                                                                                                                                                                                                                                                                                                                                             |when it comes to covid they are living with restrictions lol after getting vaccinated in a bid to remove all restrictions and return to normal how far away are those goalposts again                                                                                                                                                                                                                                                                                                                                                                                                                                                                                                                                                                                                                                                                            |\n",
      "|Any other kids I have is also gonna have no visitors after delivery, covid or not!!! It was the best with my baby!                                                                                                                                                                                                                                                                                                                                                                                                                                                                                                                                                                                                                                                                                                                                                                                                                                                                                                                                                         |any other kids i have is also gonna have no visitors after delivery covid or not it was the best with my baby                                                                                                                                                                                                                                                                                                                                                                                                                                                                                                                                                                                                                                                                                                                                                    |\n",
      "|It's the deadliest coronavirus we have faced, but not the deadliest virus. And the Spanish flu lasted 3 years without a vaccine. It's now part of the seasonal flu. People got back to normal after that as, as I've been saying for so long is that this won't last forever. It has changed things for now, but if people continue to bend over to the whim of the changes their governments enforce in stealth or under the guise of some bullshit, things will change massively forever, long after covid is a threat. And then when questions are asked, it will all be too late. \\nAnd when vaccinated people can still transmit the virus, without the need for testing they can just scan their codes and off they go into a football ground. Can you tell me the logic that means passports will stop the spread? Or do anything to change the state we are in for that matter?                                                                                                                                                                                    |its the deadliest coronavirus we have faced but not the deadliest virus and the spanish flu lasted 3 years without a vaccine its now part of the seasonal flu people got back to normal after that as as ive been saying for so long is that this wont last forever it has changed things for now but if people continue to bend over to the whim of the changes their governments enforce in stealth or under the guise of some bullshit things will change massively forever long after covid is a threat and then when questions are asked it will all be too late and when vaccinated people can still transmit the virus without the need for testing they can just scan their codes and off they go into a football ground can you tell me the logic that means passports will stop the spread or do anything to change the state we are in for that matter|\n",
      "+---------------------------------------------------------------------------------------------------------------------------------------------------------------------------------------------------------------------------------------------------------------------------------------------------------------------------------------------------------------------------------------------------------------------------------------------------------------------------------------------------------------------------------------------------------------------------------------------------------------------------------------------------------------------------------------------------------------------------------------------------------------------------------------------------------------------------------------------------------------------------------------------------------------------------------------------------------------------------------------------------------------------------------------------------------------------------+-----------------------------------------------------------------------------------------------------------------------------------------------------------------------------------------------------------------------------------------------------------------------------------------------------------------------------------------------------------------------------------------------------------------------------------------------------------------------------------------------------------------------------------------------------------------------------------------------------------------------------------------------------------------------------------------------------------------------------------------------------------------------------------------------------------------------------------------------------------------+\n",
      "only showing top 20 rows\n",
      "\n"
     ]
    }
   ],
   "source": [
    "# Apply the UDF to clean the comments\n",
    "df = df.withColumn('body_clean', clean_text_udf(F.col('body')))\n",
    "\n",
    "# Show the cleaned comments\n",
    "df.select('body', 'body_clean').show(truncate=False)"
   ]
  },
  {
   "cell_type": "code",
   "execution_count": 20,
   "metadata": {},
   "outputs": [
    {
     "name": "stdout",
     "output_type": "stream",
     "text": [
      "+-------+-------+------------+------------------+--------------+-----------+--------------------+--------------------+---------+-----+--------------------+---------------+\n",
      "|   type|     id|subreddit_id|    subreddit_name|subreddit_nsfw|created_utc|           permalink|                body|sentiment|score|          body_clean|sentiment_vader|\n",
      "+-------+-------+------------+------------------+--------------+-----------+--------------------+--------------------+---------+-----+--------------------+---------------+\n",
      "|comment|hi1vsag|       2riyy|              nova|         false| 1635206399|https://old.reddi...|When you schedule...|      0.0|    2|when you schedule...|            0.0|\n",
      "|comment|hi1vs7i|       2qhov|         vancouver|         false| 1635206397|https://old.reddi...|Didn't stop price...|   0.1887|   32|didnt stop prices...|         0.1887|\n",
      "|comment|hi1vs5n|       2qwzb|          pregnant|         false| 1635206397|https://old.reddi...|I’m just waiting ...|    0.672|    1|im just waiting u...|          0.672|\n",
      "|comment|hi1vs5v|       2qixm|          startrek|         false| 1635206397|https://old.reddi...|*The first duty o...|   0.9562|    1|the first duty of...|         0.9403|\n",
      "|comment|hi1vs0l|       2qsf3|           ontario|         false| 1635206395|https://old.reddi...|Compare BC to Ont...|      0.0|   -2|compare bc to ont...|            0.0|\n",
      "|comment|hi1vrtk|       2qh0f|     entertainment|         false| 1635206393|https://old.reddi...|Sheeran didn't me...|   0.5023|    2|sheeran didnt men...|         0.5023|\n",
      "|comment|hi1vrsk|       2qh4r|        conspiracy|         false| 1635206392|https://old.reddi...|I see a lot of po...|    0.244|    1|i see a lot of po...|          0.244|\n",
      "|comment|hi1vrnr|      2iokxd|lockdownskepticism|         false| 1635206391|https://old.reddi...|And think about h...|  -0.8413|   29|and think about h...|        -0.8413|\n",
      "|comment|hi1vrpy|       2riyy|              nova|         false| 1635206391|https://old.reddi...|Unfortunately the...|  -0.1779|    2|unfortunately the...|        -0.1779|\n",
      "|comment|hi1vrou|       384mz|       antivaxxers|         false| 1635206391|https://old.reddi...|I don’t know anyo...|  -0.9191|    1|i dont know anyon...|        -0.9191|\n",
      "+-------+-------+------------+------------------+--------------+-----------+--------------------+--------------------+---------+-----+--------------------+---------------+\n",
      "only showing top 10 rows\n",
      "\n"
     ]
    }
   ],
   "source": [
    "# Register UDF to apply VADER sentiment\n",
    "vader_sentiment_udf = F.udf(calculate_vader_sentiment)\n",
    "\n",
    "# Apply VADER sentiment to each row and create a new column\n",
    "df = df.withColumn(\"sentiment_vader\", vader_sentiment_udf(F.col(\"body_clean\")))\n",
    "\n",
    "df.show(10)"
   ]
  },
  {
   "cell_type": "markdown",
   "metadata": {},
   "source": [
    "### Write results"
   ]
  },
  {
   "cell_type": "code",
   "execution_count": 21,
   "metadata": {},
   "outputs": [
    {
     "name": "stderr",
     "output_type": "stream",
     "text": [
      "24/10/30 09:55:12 WARN DAGScheduler: Broadcasting large task binary with size 1064.9 KiB\n",
      "                                                                                \r"
     ]
    }
   ],
   "source": [
    "sentiment_calculation_path = \"data/results/sentiment_calculations.parquet\"\n",
    "\n",
    "df.write.mode(\"overwrite\").parquet(sentiment_calculation_path)\n"
   ]
  },
  {
   "cell_type": "markdown",
   "metadata": {},
   "source": [
    "### Read results"
   ]
  },
  {
   "cell_type": "code",
   "execution_count": 22,
   "metadata": {},
   "outputs": [
    {
     "name": "stdout",
     "output_type": "stream",
     "text": [
      "+-------+-------+------------+------------------+--------------+-----------+--------------------+--------------------+---------+-----+--------------------+---------------+\n",
      "|   type|     id|subreddit_id|    subreddit_name|subreddit_nsfw|created_utc|           permalink|                body|sentiment|score|          body_clean|sentiment_vader|\n",
      "+-------+-------+------------+------------------+--------------+-----------+--------------------+--------------------+---------+-----+--------------------+---------------+\n",
      "|comment|hi1vsag|       2riyy|              nova|         false| 1635206399|https://old.reddi...|When you schedule...|      0.0|    2|when you schedule...|            0.0|\n",
      "|comment|hi1vs7i|       2qhov|         vancouver|         false| 1635206397|https://old.reddi...|Didn't stop price...|   0.1887|   32|didnt stop prices...|         0.1887|\n",
      "|comment|hi1vs5n|       2qwzb|          pregnant|         false| 1635206397|https://old.reddi...|I’m just waiting ...|    0.672|    1|im just waiting u...|          0.672|\n",
      "|comment|hi1vs5v|       2qixm|          startrek|         false| 1635206397|https://old.reddi...|*The first duty o...|   0.9562|    1|the first duty of...|         0.9403|\n",
      "|comment|hi1vs0l|       2qsf3|           ontario|         false| 1635206395|https://old.reddi...|Compare BC to Ont...|      0.0|   -2|compare bc to ont...|            0.0|\n",
      "|comment|hi1vrtk|       2qh0f|     entertainment|         false| 1635206393|https://old.reddi...|Sheeran didn't me...|   0.5023|    2|sheeran didnt men...|         0.5023|\n",
      "|comment|hi1vrsk|       2qh4r|        conspiracy|         false| 1635206392|https://old.reddi...|I see a lot of po...|    0.244|    1|i see a lot of po...|          0.244|\n",
      "|comment|hi1vrnr|      2iokxd|lockdownskepticism|         false| 1635206391|https://old.reddi...|And think about h...|  -0.8413|   29|and think about h...|        -0.8413|\n",
      "|comment|hi1vrpy|       2riyy|              nova|         false| 1635206391|https://old.reddi...|Unfortunately the...|  -0.1779|    2|unfortunately the...|        -0.1779|\n",
      "|comment|hi1vrou|       384mz|       antivaxxers|         false| 1635206391|https://old.reddi...|I don’t know anyo...|  -0.9191|    1|i dont know anyon...|        -0.9191|\n",
      "+-------+-------+------------+------------------+--------------+-----------+--------------------+--------------------+---------+-----+--------------------+---------------+\n",
      "only showing top 10 rows\n",
      "\n"
     ]
    },
    {
     "data": {
      "text/plain": [
       "1777747"
      ]
     },
     "execution_count": 22,
     "metadata": {},
     "output_type": "execute_result"
    }
   ],
   "source": [
    "# File path for the Parquet file\n",
    "file_path = \"data/results/sentiment_calculations.parquet\"\n",
    "\n",
    "# Read the Parquet file into a DataFrame\n",
    "df_result = spark.read.parquet(file_path)\n",
    "\n",
    "df.show(10)\n",
    "df.count()"
   ]
  }
 ],
 "metadata": {
  "kernelspec": {
   "display_name": "venv",
   "language": "python",
   "name": "python3"
  },
  "language_info": {
   "codemirror_mode": {
    "name": "ipython",
    "version": 3
   },
   "file_extension": ".py",
   "mimetype": "text/x-python",
   "name": "python",
   "nbconvert_exporter": "python",
   "pygments_lexer": "ipython3",
   "version": "3.10.12"
  }
 },
 "nbformat": 4,
 "nbformat_minor": 2
}
