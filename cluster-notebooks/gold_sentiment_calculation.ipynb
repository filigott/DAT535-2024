{
 "cells": [
  {
   "cell_type": "code",
   "execution_count": null,
   "metadata": {
    "scrolled": true
   },
   "outputs": [],
   "source": [
    "# Import required libraries\n",
    "from pyspark.sql import SparkSession, functions as F\n",
    "from pyspark.sql.functions import pandas_udf, PandasUDFType\n",
    "from vaderSentiment.vaderSentiment import SentimentIntensityAnalyzer\n",
    "import pandas as pd"
   ]
  },
  {
   "cell_type": "code",
   "execution_count": null,
   "metadata": {},
   "outputs": [],
   "source": [
    "# Initialize Spark Session\n",
    "spark = SparkSession.builder \\\n",
    "    .appName(\"Sentiment Calculation RDD\") \\\n",
    "    .config(\"spark.executor.memory\", \"2g\") \\\n",
    "    .config(\"spark.executor.cores\", \"2\") \\\n",
    "    .config(\"spark.dynamicAllocation.enabled\", \"true\") \\\n",
    "    .config(\"spark.dynamicAllocation.minExecutors\", \"3\") \\\n",
    "    .config(\"spark.dynamicAllocation.maxExecutors\", \"9\") \\\n",
    "    .config(\"spark.dynamicAllocation.initialExecutors\", \"3\") \\\n",
    "    .config(\"spark.driver.memory\", \"4g\") \\\n",
    "    .getOrCreate()\n",
    "\n",
    "# Set log level for cleaner outputs\n",
    "sc = spark.sparkContext\n",
    "sc.setLogLevel(\"INFO\")\n"
   ]
  },
  {
   "cell_type": "code",
   "execution_count": null,
   "metadata": {},
   "outputs": [],
   "source": [
    "# HDFS path for the dataset\n",
    "file_path = \"hdfs://namenode:9000/data/cleaned_dataset.parquet\"\n",
    "\n",
    "# Read the Parquet file into a DataFrame\n",
    "df = spark.read.parquet(file_path)\n",
    "\n",
    "# Display schema and sample rows\n",
    "df.printSchema()\n",
    "df.show(5, truncate=False)"
   ]
  },
  {
   "cell_type": "code",
   "execution_count": null,
   "metadata": {},
   "outputs": [],
   "source": [
    "# Function to clean comments\n",
    "def clean_comment_spark(df, column):\n",
    "    \"\"\"Clean comments in the specified column.\"\"\"\n",
    "    return df.withColumn(\n",
    "        f\"{column}_clean\",\n",
    "        F.trim(\n",
    "            F.regexp_replace(\n",
    "                F.regexp_replace(\n",
    "                    F.regexp_replace(\n",
    "                        F.lower(F.col(column)),  # Convert to lowercase\n",
    "                        r\"http\\S+|www\\S+|https\\S+\", \"\"),  # Remove URLs\n",
    "                    r\"@\\w+|#\", \"\"),  # Remove mentions and hashtags\n",
    "                r\"[^\\w\\s]\", \"\"),  # Remove special characters and punctuation\n",
    "            )\n",
    "        )\n"
   ]
  },
  {
   "cell_type": "code",
   "execution_count": null,
   "metadata": {},
   "outputs": [],
   "source": [
    "# Clean the comments and select relevant columns\n",
    "df = clean_comment_spark(df, \"body\").select(\"comment_id\", \"body_clean\")\n",
    "df.show(5, truncate=False)"
   ]
  },
  {
   "cell_type": "code",
   "execution_count": null,
   "metadata": {},
   "outputs": [],
   "source": [
    "# Convert DataFrame to RDD for sentiment analysis\n",
    "data_rdd = df.rdd\n",
    "\n",
    "# Broadcast the Sentiment Analyzer for efficient access across nodes\n",
    "analyzer_broadcast = sc.broadcast(SentimentIntensityAnalyzer())"
   ]
  },
  {
   "cell_type": "code",
   "execution_count": null,
   "metadata": {},
   "outputs": [],
   "source": [
    "# Function to calculate sentiment for a single row\n",
    "def calculate_sentiment(row):\n",
    "    analyzer = analyzer_broadcast.value\n",
    "    comment_id = row[\"comment_id\"]\n",
    "    text = row[\"body_clean\"]\n",
    "    if text:\n",
    "        sentiment_score = analyzer.polarity_scores(text)['compound']\n",
    "    else:\n",
    "        sentiment_score = None\n",
    "    return (comment_id, sentiment_score)"
   ]
  },
  {
   "cell_type": "code",
   "execution_count": null,
   "metadata": {},
   "outputs": [],
   "source": [
    "# Apply sentiment calculation on each partition\n",
    "sentiment_rdd = data_rdd.map(calculate_sentiment)\n",
    "\n",
    "# Create final dataframe from rdd\n",
    "sentiment_df = spark.createDataFrame(sentiment_rdd)"
   ]
  },
  {
   "cell_type": "code",
   "execution_count": null,
   "metadata": {},
   "outputs": [],
   "source": [
    "# Write the results to HDFS in Parquet format\n",
    "output_path = \"hdfs://namenode:9000/data/results/sentiment_calculations_rdd.parquet\"\n",
    "sentiment_df.write.mode(\"overwrite\").parquet(output_path)"
   ]
  },
  {
   "cell_type": "code",
   "execution_count": null,
   "metadata": {},
   "outputs": [],
   "source": [
    "# Verify results\n",
    "result_df = spark.read.parquet(output_path)\n",
    "result_df.show(10, truncate=False)\n",
    "result_count = result_df.count()\n",
    "print(f\"Total records processed: {result_count}\")"
   ]
  }
 ],
 "metadata": {
  "kernelspec": {
   "display_name": "venv",
   "language": "python",
   "name": "python3"
  },
  "language_info": {
   "codemirror_mode": {
    "name": "ipython",
    "version": 3
   },
   "file_extension": ".py",
   "mimetype": "text/x-python",
   "name": "python",
   "nbconvert_exporter": "python",
   "pygments_lexer": "ipython3",
   "version": "3.10.12"
  }
 },
 "nbformat": 4,
 "nbformat_minor": 4
}
