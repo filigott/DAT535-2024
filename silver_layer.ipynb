{
 "cells": [
  {
   "cell_type": "code",
   "execution_count": null,
   "id": "f3082969-3fef-4b24-8356-9309a85136ff",
   "metadata": {},
   "outputs": [],
   "source": [
    "import re\n",
    "from pyspark.sql import SparkSession"
   ]
  },
  {
   "cell_type": "code",
   "execution_count": null,
   "id": "61dc3251-2da6-4fe0-bbca-aee5c51a8e26",
   "metadata": {},
   "outputs": [],
   "source": [
    "spark = SparkSession.builder \\\n",
    "    .appName(\"Final Silver Layer\") \\\n",
    "    .config(\"spark.driver.memory\", \"5g\") \\\n",
    "    .config(\"spark.executor.memory\", \"5g\") \\\n",
    "    .config(\"spark.executor.cores\", \"3\") \\\n",
    "    .config(\"spark.executor.instances\", \"3\") \\\n",
    "    .config(\"spark.driver.cores\", \"3\") \\\n",
    "    .getOrCreate()\n",
    "\n",
    "sc = spark.sparkContext"
   ]
  },
  {
   "cell_type": "code",
   "execution_count": null,
   "id": "7c49e573-4912-4995-95c6-a486aa0af04b",
   "metadata": {},
   "outputs": [],
   "source": [
    "input_path = \"hdfs://namenode:9000/data/reddit_input.txt\"\n",
    "raw_rdd = sc.textFile(input_path)"
   ]
  },
  {
   "cell_type": "code",
   "execution_count": 9,
   "id": "02aa58a3-b36f-4fd4-bd21-cc0df29f23bd",
   "metadata": {},
   "outputs": [],
   "source": [
    "def extract_link_info(link):\n",
    "    pattern = r\"https://old\\.reddit\\.com/r/([^/]+)/comments/([^/]+)/[^/]+/([^/]+)/?\"\n",
    "    match = re.match(pattern, link)\n",
    "    if match:\n",
    "        sub_reddit = match.group(1)\n",
    "        post_id = match.group(2)\n",
    "        comment_id = match.group(3)\n",
    "        return sub_reddit, post_id, comment_id\n",
    "    return None, None, None"
   ]
  },
  {
   "cell_type": "code",
   "execution_count": null,
   "id": "9105d8d7-f0c3-4015-be14-96c25606cb8a",
   "metadata": {},
   "outputs": [],
   "source": [
    "def clean_comment_body(body):\n",
    "    body = body.lower()\n",
    "    body = re.sub(r'&[a-z]+;', '', body)\n",
    "    body = re.sub(r'[^a-zA-Z0-9\\s.!?]', '', body)\n",
    "\n",
    "    body = ' '.join(body.split())\n",
    "\n",
    "    return body"
   ]
  },
  {
   "cell_type": "code",
   "execution_count": 11,
   "id": "ae91a7fa-d3f0-45af-ba81-266073a77b96",
   "metadata": {},
   "outputs": [],
   "source": [
    "def map_to_comment_blocks(lines):\n",
    "    link = \"\"\n",
    "    created_utc = \"\"\n",
    "    score = \"\"\n",
    "    body_lines = []\n",
    "    for line in lines:\n",
    "        line = line.strip()\n",
    "\n",
    "        if re.match(r'^[a-zA-Z_]+:', line):\n",
    "            if not (line.startswith(\"link:\") or line.startswith(\"created_utc:\") or line.startswith(\"score:\")  or line.startswith(\"body:\")):\n",
    "                continue\n",
    "\n",
    "        if line.startswith(\"link:\"):\n",
    "            if link and created_utc and score and body_lines:\n",
    "                body = \" \".join(body_lines).strip()\n",
    "                body = clean_comment_body(body)\n",
    "                sub_reddit, post_id, comment_id = extract_link_info(link)\n",
    "                yield (link, int(created_utc), int(score), sub_reddit, post_id, comment_id, body)\n",
    "            link = line.replace(\"link:\", \"\").strip()\n",
    "            created_utc = \"\"\n",
    "            body_lines = []\n",
    "        elif line.startswith(\"created_utc:\"):\n",
    "            created_utc = line.replace(\"created_utc:\", \"\").strip()\n",
    "        elif line.startswith(\"score:\"):\n",
    "            score = line.replace(\"score:\", \"\").strip()\n",
    "        elif line.startswith(\"body:\"):\n",
    "            body_lines.append(line.replace(\"body:\", \"\").strip())\n",
    "        else:\n",
    "            body_lines.append(line)\n",
    "\n",
    "    if link and created_utc and score and body_lines:\n",
    "        return"
   ]
  },
  {
   "cell_type": "code",
   "execution_count": 12,
   "id": "191b0694-d1b7-40b8-8c01-b30dded5b9b8",
   "metadata": {},
   "outputs": [
    {
     "name": "stderr",
     "output_type": "stream",
     "text": [
      "                                                                                \r"
     ]
    }
   ],
   "source": [
    "comments_rdd = raw_rdd \\\n",
    "    .mapPartitions(lambda partition: map_to_comment_blocks(partition)) \\\n",
    "    .filter(lambda x: all(x))\n",
    "\n",
    "comments_df = comments_rdd.toDF([\"link\", \"created_utc\", \"score\", \"sub_reddit\", \"post_id\", \"comment_id\", \"body\"])"
   ]
  },
  {
   "cell_type": "code",
   "execution_count": 13,
   "id": "6866d3e4-15b6-440b-8189-3f6852a9468d",
   "metadata": {},
   "outputs": [
    {
     "name": "stderr",
     "output_type": "stream",
     "text": [
      "                                                                                \r"
     ]
    }
   ],
   "source": [
    "output_path = \"hdfs://namenode:9000/data/cleaned_dataset.parquet\"\n",
    "comments_df.write.mode(\"overwrite\").parquet(output_path)"
   ]
  },
  {
   "cell_type": "code",
   "execution_count": 14,
   "id": "3813e1df-53d1-4663-9fe5-5765f8e8227b",
   "metadata": {},
   "outputs": [],
   "source": [
    "spark.stop()"
   ]
  }
 ],
 "metadata": {
  "kernelspec": {
   "display_name": "Python 3 (ipykernel)",
   "language": "python",
   "name": "python3"
  },
  "language_info": {
   "codemirror_mode": {
    "name": "ipython",
    "version": 3
   },
   "file_extension": ".py",
   "mimetype": "text/x-python",
   "name": "python",
   "nbconvert_exporter": "python",
   "pygments_lexer": "ipython3",
   "version": "3.12.3"
  }
 },
 "nbformat": 4,
 "nbformat_minor": 5
}
